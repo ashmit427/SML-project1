{
 "cells": [
  {
   "cell_type": "code",
   "execution_count": 57,
   "id": "48d790a4",
   "metadata": {},
   "outputs": [],
   "source": [
    "import numpy as np\n",
    "import tensorflow as tf\n",
    "from tensorflow import keras\n",
    "from tensorflow.keras.models import Sequential,Model\n",
    "from tensorflow.keras.layers import Input,Activation,Dense,Flatten,BatchNormalization,Conv2D,MaxPool2D\n",
    "from tensorflow.keras.optimizers import Adam\n",
    "from tensorflow.keras.metrics import categorical_crossentropy\n",
    "from tensorflow.keras.preprocessing.image import ImageDataGenerator\n",
    "from tensorflow.keras.preprocessing import image\n",
    "from tensorflow.keras.applications import imagenet_utils\n",
    "from sklearn.metrics import confusion_matrix\n",
    "import itertools\n",
    "import os\n",
    "import shutil\n",
    "import random\n",
    "import glob\n",
    "import matplotlib.pyplot as plt\n",
    "import warnings\n",
    "warnings.simplefilter(action='ignore',category=FutureWarning)\n",
    "%matplotlib inline"
   ]
  },
  {
   "cell_type": "code",
   "execution_count": 2,
   "id": "dfad3ec2",
   "metadata": {},
   "outputs": [],
   "source": [
    "dataset_dir = \"skin cancer/melanoma_cancer_dataset/train\"\n",
    "benign_dir = os.path.join(dataset_dir, \"benign\")\n",
    "malignant_dir = os.path.join(dataset_dir, \"malignant\")\n",
    "\n",
    "\n",
    "train_dir = \"skin cancer/working/train\"\n",
    "valid_dir= \"skin cancer/working/valid\"\n",
    "benign_train_dir = os.path.join(train_dir, \"benign\")\n",
    "malignant_train_dir = os.path.join(train_dir, \"malignant\")\n",
    "benign_valid_dir = os.path.join(valid_dir, \"benign\")\n",
    "malignant_valid_dir = os.path.join(valid_dir, \"malignant\")\n",
    "\n",
    "\n",
    "if not os.path.exists(benign_train_dir):\n",
    "    os.makedirs(benign_train_dir)\n",
    "if not os.path.exists(malignant_train_dir):\n",
    "    os.makedirs(malignant_train_dir)\n",
    "\n",
    "if not os.path.exists(benign_valid_dir):\n",
    "    os.makedirs(benign_valid_dir)\n",
    "if not os.path.exists(malignant_valid_dir):\n",
    "    os.makedirs(malignant_valid_dir)\n",
    "\n",
    "    \n",
    "\n",
    "num_images = 2000\n",
    "\n",
    "\n",
    "benign_images = os.listdir(benign_dir)\n",
    "selected_benign_images = random.sample(benign_images, num_images)\n",
    "for image_name in selected_benign_images:\n",
    "    source_path = os.path.join(benign_dir, image_name)\n",
    "    dest_path = os.path.join(benign_train_dir, image_name)\n",
    "    shutil.copyfile(source_path, dest_path)\n",
    "\n",
    "\n",
    "malignant_images = os.listdir(malignant_dir)\n",
    "selected_malignant_images = random.sample(malignant_images, num_images)\n",
    "for image_name in selected_malignant_images:\n",
    "    source_path = os.path.join(malignant_dir, image_name)\n",
    "    dest_path = os.path.join(malignant_train_dir, image_name)\n",
    "    shutil.copyfile(source_path, dest_path)\n",
    "\n",
    "    \n",
    "num_images = 200\n",
    "\n",
    "\n",
    "benign_images = os.listdir(benign_dir)\n",
    "selected_benign_images = random.sample(benign_images, num_images)\n",
    "for image_name in selected_benign_images:\n",
    "    source_path = os.path.join(benign_dir, image_name)\n",
    "    dest_path = os.path.join(benign_valid_dir, image_name)\n",
    "    shutil.copyfile(source_path, dest_path)\n",
    "\n",
    "\n",
    "malignant_images = os.listdir(malignant_dir)\n",
    "selected_malignant_images = random.sample(malignant_images, num_images)\n",
    "for image_name in selected_malignant_images:\n",
    "    source_path = os.path.join(malignant_dir, image_name)\n",
    "    dest_path = os.path.join(malignant_valid_dir, image_name)\n",
    "    shutil.copyfile(source_path, dest_path)\n",
    "\n",
    "    \n",
    "\n",
    "\n",
    "dataset_dir_test = \"skin cancer/melanoma_cancer_dataset/test\"\n",
    "benign_dir = os.path.join(dataset_dir_test, \"benign\")\n",
    "malignant_dir = os.path.join(dataset_dir_test, \"malignant\")\n",
    "# Set the paths to the new directories that will contain the selected images\n",
    "test_dir = \"skin cancer/working/test\"\n",
    "benign_test_dir = os.path.join(test_dir, \"benign\")\n",
    "malignant_test_dir = os.path.join(test_dir, \"malignant\")\n",
    "\n",
    "\n",
    "if not os.path.exists(benign_test_dir):\n",
    "    os.makedirs(benign_test_dir)\n",
    "if not os.path.exists(malignant_test_dir):\n",
    "    os.makedirs(malignant_test_dir)\n",
    "\n",
    "num_images = 200\n",
    "\n",
    "\n",
    "benign_images = os.listdir(benign_dir)\n",
    "selected_benign_images = random.sample(benign_images, num_images)\n",
    "for image_name in selected_benign_images:\n",
    "    source_path = os.path.join(benign_dir, image_name)\n",
    "    dest_path = os.path.join(benign_test_dir, image_name)\n",
    "    shutil.copyfile(source_path, dest_path)\n",
    "\n",
    "\n",
    "malignant_images = os.listdir(malignant_dir)\n",
    "selected_malignant_images = random.sample(malignant_images, num_images)\n",
    "for image_name in selected_malignant_images:\n",
    "    source_path = os.path.join(malignant_dir, image_name)\n",
    "    dest_path = os.path.join(malignant_test_dir, image_name)\n",
    "    shutil.copyfile(source_path, dest_path)"
   ]
  },
  {
   "cell_type": "code",
   "execution_count": 3,
   "id": "a43362f7",
   "metadata": {},
   "outputs": [],
   "source": [
    "train_path='skin cancer/working/train'\n",
    "valid_path='skin cancer/working/valid'\n",
    "test_path='skin cancer/working/test'\n"
   ]
  },
  {
   "cell_type": "code",
   "execution_count": 38,
   "id": "4e3cf862",
   "metadata": {},
   "outputs": [
    {
     "name": "stdout",
     "output_type": "stream",
     "text": [
      "Found 4000 images belonging to 2 classes.\n",
      "Found 400 images belonging to 2 classes.\n",
      "Found 400 images belonging to 2 classes.\n"
     ]
    }
   ],
   "source": [
    "train_datagen = ImageDataGenerator(preprocessing_function=tf.keras.applications.vgg16.preprocess_input,)\n",
    "valid_datagen = ImageDataGenerator(preprocessing_function=tf.keras.applications.vgg16.preprocess_input)\n",
    "test_datagen = ImageDataGenerator(preprocessing_function=tf.keras.applications.vgg16.preprocess_input)\n",
    "\n",
    "train_batches = train_datagen.flow_from_directory(train_path,target_size=(224,224),class_mode='binary',batch_size=10)\n",
    "valid_batches = valid_datagen.flow_from_directory(valid_path,target_size=(224,224),class_mode='binary',batch_size=10)\n",
    "test_batches=test_datagen.flow_from_directory(test_path,target_size=(224,224),class_mode='binary',batch_size=10)"
   ]
  },
  {
   "cell_type": "code",
   "execution_count": 39,
   "id": "43c409e5",
   "metadata": {},
   "outputs": [],
   "source": [
    "imgs, labels = next(train_batches)"
   ]
  },
  {
   "cell_type": "code",
   "execution_count": 40,
   "id": "f15e0150",
   "metadata": {},
   "outputs": [
    {
     "data": {
      "text/plain": [
       "array([0, 0, 0, 0, 0, 0, 0, 0, 0, 0, 0, 0, 0, 0, 0, 0, 0, 0, 0, 0, 0, 0,\n",
       "       0, 0, 0, 0, 0, 0, 0, 0, 0, 0, 0, 0, 0, 0, 0, 0, 0, 0, 0, 0, 0, 0,\n",
       "       0, 0, 0, 0, 0, 0, 0, 0, 0, 0, 0, 0, 0, 0, 0, 0, 0, 0, 0, 0, 0, 0,\n",
       "       0, 0, 0, 0, 0, 0, 0, 0, 0, 0, 0, 0, 0, 0, 0, 0, 0, 0, 0, 0, 0, 0,\n",
       "       0, 0, 0, 0, 0, 0, 0, 0, 0, 0, 0, 0, 0, 0, 0, 0, 0, 0, 0, 0, 0, 0,\n",
       "       0, 0, 0, 0, 0, 0, 0, 0, 0, 0, 0, 0, 0, 0, 0, 0, 0, 0, 0, 0, 0, 0,\n",
       "       0, 0, 0, 0, 0, 0, 0, 0, 0, 0, 0, 0, 0, 0, 0, 0, 0, 0, 0, 0, 0, 0,\n",
       "       0, 0, 0, 0, 0, 0, 0, 0, 0, 0, 0, 0, 0, 0, 0, 0, 0, 0, 0, 0, 0, 0,\n",
       "       0, 0, 0, 0, 0, 0, 0, 0, 0, 0, 0, 0, 0, 0, 0, 0, 0, 0, 0, 0, 0, 0,\n",
       "       0, 0, 1, 1, 1, 1, 1, 1, 1, 1, 1, 1, 1, 1, 1, 1, 1, 1, 1, 1, 1, 1,\n",
       "       1, 1, 1, 1, 1, 1, 1, 1, 1, 1, 1, 1, 1, 1, 1, 1, 1, 1, 1, 1, 1, 1,\n",
       "       1, 1, 1, 1, 1, 1, 1, 1, 1, 1, 1, 1, 1, 1, 1, 1, 1, 1, 1, 1, 1, 1,\n",
       "       1, 1, 1, 1, 1, 1, 1, 1, 1, 1, 1, 1, 1, 1, 1, 1, 1, 1, 1, 1, 1, 1,\n",
       "       1, 1, 1, 1, 1, 1, 1, 1, 1, 1, 1, 1, 1, 1, 1, 1, 1, 1, 1, 1, 1, 1,\n",
       "       1, 1, 1, 1, 1, 1, 1, 1, 1, 1, 1, 1, 1, 1, 1, 1, 1, 1, 1, 1, 1, 1,\n",
       "       1, 1, 1, 1, 1, 1, 1, 1, 1, 1, 1, 1, 1, 1, 1, 1, 1, 1, 1, 1, 1, 1,\n",
       "       1, 1, 1, 1, 1, 1, 1, 1, 1, 1, 1, 1, 1, 1, 1, 1, 1, 1, 1, 1, 1, 1,\n",
       "       1, 1, 1, 1, 1, 1, 1, 1, 1, 1, 1, 1, 1, 1, 1, 1, 1, 1, 1, 1, 1, 1,\n",
       "       1, 1, 1, 1])"
      ]
     },
     "execution_count": 40,
     "metadata": {},
     "output_type": "execute_result"
    }
   ],
   "source": [
    "test_batches.labels"
   ]
  },
  {
   "cell_type": "code",
   "execution_count": 41,
   "id": "ce587663",
   "metadata": {},
   "outputs": [],
   "source": [
    "vgg16_model=tf.keras.applications.vgg16.VGG16(include_top=False,input_shape=(224,224,3))"
   ]
  },
  {
   "cell_type": "code",
   "execution_count": 42,
   "id": "b446fd96",
   "metadata": {},
   "outputs": [
    {
     "name": "stdout",
     "output_type": "stream",
     "text": [
      "Model: \"vgg16\"\n",
      "_________________________________________________________________\n",
      " Layer (type)                Output Shape              Param #   \n",
      "=================================================================\n",
      " input_5 (InputLayer)        [(None, 224, 224, 3)]     0         \n",
      "                                                                 \n",
      " block1_conv1 (Conv2D)       (None, 224, 224, 64)      1792      \n",
      "                                                                 \n",
      " block1_conv2 (Conv2D)       (None, 224, 224, 64)      36928     \n",
      "                                                                 \n",
      " block1_pool (MaxPooling2D)  (None, 112, 112, 64)      0         \n",
      "                                                                 \n",
      " block2_conv1 (Conv2D)       (None, 112, 112, 128)     73856     \n",
      "                                                                 \n",
      " block2_conv2 (Conv2D)       (None, 112, 112, 128)     147584    \n",
      "                                                                 \n",
      " block2_pool (MaxPooling2D)  (None, 56, 56, 128)       0         \n",
      "                                                                 \n",
      " block3_conv1 (Conv2D)       (None, 56, 56, 256)       295168    \n",
      "                                                                 \n",
      " block3_conv2 (Conv2D)       (None, 56, 56, 256)       590080    \n",
      "                                                                 \n",
      " block3_conv3 (Conv2D)       (None, 56, 56, 256)       590080    \n",
      "                                                                 \n",
      " block3_pool (MaxPooling2D)  (None, 28, 28, 256)       0         \n",
      "                                                                 \n",
      " block4_conv1 (Conv2D)       (None, 28, 28, 512)       1180160   \n",
      "                                                                 \n",
      " block4_conv2 (Conv2D)       (None, 28, 28, 512)       2359808   \n",
      "                                                                 \n",
      " block4_conv3 (Conv2D)       (None, 28, 28, 512)       2359808   \n",
      "                                                                 \n",
      " block4_pool (MaxPooling2D)  (None, 14, 14, 512)       0         \n",
      "                                                                 \n",
      " block5_conv1 (Conv2D)       (None, 14, 14, 512)       2359808   \n",
      "                                                                 \n",
      " block5_conv2 (Conv2D)       (None, 14, 14, 512)       2359808   \n",
      "                                                                 \n",
      " block5_conv3 (Conv2D)       (None, 14, 14, 512)       2359808   \n",
      "                                                                 \n",
      " block5_pool (MaxPooling2D)  (None, 7, 7, 512)         0         \n",
      "                                                                 \n",
      "=================================================================\n",
      "Total params: 14,714,688\n",
      "Trainable params: 14,714,688\n",
      "Non-trainable params: 0\n",
      "_________________________________________________________________\n"
     ]
    }
   ],
   "source": [
    "vgg16_model.summary()"
   ]
  },
  {
   "cell_type": "code",
   "execution_count": 43,
   "id": "d31afd79",
   "metadata": {},
   "outputs": [],
   "source": [
    "for i in vgg16_model.layers:\n",
    "    i.trainable=False\n",
    "    \n"
   ]
  },
  {
   "cell_type": "code",
   "execution_count": 44,
   "id": "90745139",
   "metadata": {
    "scrolled": true
   },
   "outputs": [],
   "source": [
    "rescale=tf.keras.layers.Rescaling(scale=1./255)(vgg16_model.layers[-1].output)\n",
    "flat1=Flatten()(rescale)\n",
    "class1=Dense(128,activation='relu')(flat1)\n",
    "class2=BatchNormalization()(class1) \n",
    "class3=Dense(64,activation='relu')(class2)\n",
    "class4=BatchNormalization()(class3) \n",
    "class5=Dense(128,activation='relu')(class4)\n",
    "class6=BatchNormalization()(class5) \n",
    "class7=Dense(64,activation='relu')(class6)\n",
    "class8=BatchNormalization()(class7) \n",
    "output=Dense(1,activation='sigmoid')(class8)\n",
    "model=Model(inputs=vgg16_model.input,outputs=output)\n"
   ]
  },
  {
   "cell_type": "code",
   "execution_count": 45,
   "id": "04e41b8e",
   "metadata": {},
   "outputs": [
    {
     "name": "stdout",
     "output_type": "stream",
     "text": [
      "Model: \"model_3\"\n",
      "_________________________________________________________________\n",
      " Layer (type)                Output Shape              Param #   \n",
      "=================================================================\n",
      " input_5 (InputLayer)        [(None, 224, 224, 3)]     0         \n",
      "                                                                 \n",
      " block1_conv1 (Conv2D)       (None, 224, 224, 64)      1792      \n",
      "                                                                 \n",
      " block1_conv2 (Conv2D)       (None, 224, 224, 64)      36928     \n",
      "                                                                 \n",
      " block1_pool (MaxPooling2D)  (None, 112, 112, 64)      0         \n",
      "                                                                 \n",
      " block2_conv1 (Conv2D)       (None, 112, 112, 128)     73856     \n",
      "                                                                 \n",
      " block2_conv2 (Conv2D)       (None, 112, 112, 128)     147584    \n",
      "                                                                 \n",
      " block2_pool (MaxPooling2D)  (None, 56, 56, 128)       0         \n",
      "                                                                 \n",
      " block3_conv1 (Conv2D)       (None, 56, 56, 256)       295168    \n",
      "                                                                 \n",
      " block3_conv2 (Conv2D)       (None, 56, 56, 256)       590080    \n",
      "                                                                 \n",
      " block3_conv3 (Conv2D)       (None, 56, 56, 256)       590080    \n",
      "                                                                 \n",
      " block3_pool (MaxPooling2D)  (None, 28, 28, 256)       0         \n",
      "                                                                 \n",
      " block4_conv1 (Conv2D)       (None, 28, 28, 512)       1180160   \n",
      "                                                                 \n",
      " block4_conv2 (Conv2D)       (None, 28, 28, 512)       2359808   \n",
      "                                                                 \n",
      " block4_conv3 (Conv2D)       (None, 28, 28, 512)       2359808   \n",
      "                                                                 \n",
      " block4_pool (MaxPooling2D)  (None, 14, 14, 512)       0         \n",
      "                                                                 \n",
      " block5_conv1 (Conv2D)       (None, 14, 14, 512)       2359808   \n",
      "                                                                 \n",
      " block5_conv2 (Conv2D)       (None, 14, 14, 512)       2359808   \n",
      "                                                                 \n",
      " block5_conv3 (Conv2D)       (None, 14, 14, 512)       2359808   \n",
      "                                                                 \n",
      " block5_pool (MaxPooling2D)  (None, 7, 7, 512)         0         \n",
      "                                                                 \n",
      " rescaling_4 (Rescaling)     (None, 7, 7, 512)         0         \n",
      "                                                                 \n",
      " flatten_4 (Flatten)         (None, 25088)             0         \n",
      "                                                                 \n",
      " dense_16 (Dense)            (None, 128)               3211392   \n",
      "                                                                 \n",
      " batch_normalization_12 (Bat  (None, 128)              512       \n",
      " chNormalization)                                                \n",
      "                                                                 \n",
      " dense_17 (Dense)            (None, 64)                8256      \n",
      "                                                                 \n",
      " batch_normalization_13 (Bat  (None, 64)               256       \n",
      " chNormalization)                                                \n",
      "                                                                 \n",
      " dense_18 (Dense)            (None, 128)               8320      \n",
      "                                                                 \n",
      " batch_normalization_14 (Bat  (None, 128)              512       \n",
      " chNormalization)                                                \n",
      "                                                                 \n",
      " dense_19 (Dense)            (None, 64)                8256      \n",
      "                                                                 \n",
      " batch_normalization_15 (Bat  (None, 64)               256       \n",
      " chNormalization)                                                \n",
      "                                                                 \n",
      " dense_20 (Dense)            (None, 1)                 65        \n",
      "                                                                 \n",
      "=================================================================\n",
      "Total params: 17,952,513\n",
      "Trainable params: 3,237,057\n",
      "Non-trainable params: 14,715,456\n",
      "_________________________________________________________________\n"
     ]
    }
   ],
   "source": [
    "model.summary()"
   ]
  },
  {
   "cell_type": "code",
   "execution_count": 46,
   "id": "d61d8b40",
   "metadata": {},
   "outputs": [],
   "source": [
    "model.compile(loss='binary_crossentropy', optimizer=Adam(learning_rate=0.001), metrics=['accuracy'])"
   ]
  },
  {
   "cell_type": "code",
   "execution_count": 47,
   "id": "a3b856f3",
   "metadata": {},
   "outputs": [
    {
     "name": "stdout",
     "output_type": "stream",
     "text": [
      "Epoch 1/10\n",
      "400/400 - 875s - loss: 0.3308 - accuracy: 0.8630 - val_loss: 0.2118 - val_accuracy: 0.9175 - 875s/epoch - 2s/step\n",
      "Epoch 2/10\n",
      "400/400 - 938s - loss: 0.2342 - accuracy: 0.9030 - val_loss: 0.1666 - val_accuracy: 0.9275 - 938s/epoch - 2s/step\n",
      "Epoch 3/10\n",
      "400/400 - 847s - loss: 0.1721 - accuracy: 0.9348 - val_loss: 0.1581 - val_accuracy: 0.9400 - 847s/epoch - 2s/step\n",
      "Epoch 4/10\n",
      "400/400 - 959s - loss: 0.1536 - accuracy: 0.9445 - val_loss: 0.1300 - val_accuracy: 0.9550 - 959s/epoch - 2s/step\n",
      "Epoch 5/10\n",
      "400/400 - 1133s - loss: 0.1147 - accuracy: 0.9592 - val_loss: 0.1579 - val_accuracy: 0.9425 - 1133s/epoch - 3s/step\n",
      "Epoch 6/10\n",
      "400/400 - 1116s - loss: 0.1012 - accuracy: 0.9685 - val_loss: 0.1736 - val_accuracy: 0.9525 - 1116s/epoch - 3s/step\n",
      "Epoch 7/10\n",
      "400/400 - 880s - loss: 0.0878 - accuracy: 0.9668 - val_loss: 0.1967 - val_accuracy: 0.9500 - 880s/epoch - 2s/step\n",
      "Epoch 8/10\n",
      "400/400 - 913s - loss: 0.0697 - accuracy: 0.9737 - val_loss: 0.1462 - val_accuracy: 0.9600 - 913s/epoch - 2s/step\n",
      "Epoch 9/10\n",
      "400/400 - 949s - loss: 0.0500 - accuracy: 0.9818 - val_loss: 0.1795 - val_accuracy: 0.9525 - 949s/epoch - 2s/step\n",
      "Epoch 10/10\n",
      "400/400 - 949s - loss: 0.0599 - accuracy: 0.9810 - val_loss: 0.2205 - val_accuracy: 0.9450 - 949s/epoch - 2s/step\n"
     ]
    },
    {
     "data": {
      "text/plain": [
       "<keras.callbacks.History at 0x2acdbb63340>"
      ]
     },
     "execution_count": 47,
     "metadata": {},
     "output_type": "execute_result"
    }
   ],
   "source": [
    "model.fit(x=train_batches,validation_data=valid_batches,epochs=10,verbose=2)"
   ]
  },
  {
   "cell_type": "code",
   "execution_count": 48,
   "id": "b27776a1",
   "metadata": {},
   "outputs": [
    {
     "name": "stdout",
     "output_type": "stream",
     "text": [
      "40/40 - 78s - 78s/epoch - 2s/step\n"
     ]
    }
   ],
   "source": [
    "predictions=model.predict(x=test_batches,verbose=2)"
   ]
  },
  {
   "cell_type": "code",
   "execution_count": 52,
   "id": "f8be061a",
   "metadata": {},
   "outputs": [
    {
     "data": {
      "text/plain": [
       "array([0, 0, 0, 0, 0, 0, 0, 0, 0, 0, 0, 0, 0, 0, 0, 0, 0, 0, 0, 0, 0, 0,\n",
       "       0, 0, 0, 0, 0, 0, 0, 0, 0, 0, 0, 0, 0, 0, 0, 0, 0, 0, 0, 0, 0, 0,\n",
       "       0, 0, 0, 0, 0, 0, 0, 0, 0, 0, 0, 0, 0, 0, 0, 0, 0, 0, 0, 0, 0, 0,\n",
       "       0, 0, 0, 0, 0, 0, 0, 0, 0, 0, 0, 0, 0, 0, 0, 0, 0, 0, 0, 0, 0, 0,\n",
       "       0, 0, 0, 0, 0, 0, 0, 0, 0, 0, 0, 0, 0, 0, 0, 0, 0, 0, 0, 0, 0, 0,\n",
       "       0, 0, 0, 0, 0, 0, 0, 0, 0, 0, 0, 0, 0, 0, 0, 0, 0, 0, 0, 0, 0, 0,\n",
       "       0, 0, 0, 0, 0, 0, 0, 0, 0, 0, 0, 0, 0, 0, 0, 0, 0, 0, 0, 0, 0, 0,\n",
       "       0, 0, 0, 0, 0, 0, 0, 0, 0, 0, 0, 0, 0, 0, 0, 0, 0, 0, 0, 0, 0, 0,\n",
       "       0, 0, 0, 0, 0, 0, 0, 0, 0, 0, 0, 0, 0, 0, 0, 0, 0, 0, 0, 0, 0, 0,\n",
       "       0, 0, 1, 1, 1, 1, 1, 1, 1, 1, 1, 1, 1, 1, 1, 1, 1, 1, 1, 1, 1, 1,\n",
       "       1, 1, 1, 1, 1, 1, 1, 1, 1, 1, 1, 1, 1, 1, 1, 1, 1, 1, 1, 1, 1, 1,\n",
       "       1, 1, 1, 1, 1, 1, 1, 1, 1, 1, 1, 1, 1, 1, 1, 1, 1, 1, 1, 1, 1, 1,\n",
       "       1, 1, 1, 1, 1, 1, 1, 1, 1, 1, 1, 1, 1, 1, 1, 1, 1, 1, 1, 1, 1, 1,\n",
       "       1, 1, 1, 1, 1, 1, 1, 1, 1, 1, 1, 1, 1, 1, 1, 1, 1, 1, 1, 1, 1, 1,\n",
       "       1, 1, 1, 1, 1, 1, 1, 1, 1, 1, 1, 1, 1, 1, 1, 1, 1, 1, 1, 1, 1, 1,\n",
       "       1, 1, 1, 1, 1, 1, 1, 1, 1, 1, 1, 1, 1, 1, 1, 1, 1, 1, 1, 1, 1, 1,\n",
       "       1, 1, 1, 1, 1, 1, 1, 1, 1, 1, 1, 1, 1, 1, 1, 1, 1, 1, 1, 1, 1, 1,\n",
       "       1, 1, 1, 1, 1, 1, 1, 1, 1, 1, 1, 1, 1, 1, 1, 1, 1, 1, 1, 1, 1, 1,\n",
       "       1, 1, 1, 1])"
      ]
     },
     "execution_count": 52,
     "metadata": {},
     "output_type": "execute_result"
    }
   ],
   "source": [
    "test_batches.classes"
   ]
  },
  {
   "cell_type": "code",
   "execution_count": 78,
   "id": "ac92bfd2",
   "metadata": {},
   "outputs": [],
   "source": [
    "from PIL import Image\n",
    "\n",
    "t = []\n",
    "\n",
    "img = Image.open(r\"C:\\Notebooks\\skin cancer classifier\\skin cancer\\working\\test\\benign\\melanoma_9697.jpg\")\n",
    "\n",
    "img = img.resize((224, 224))\n",
    "t.append(np.array(img))\n",
    "\n",
    "t_p = np.array(t)"
   ]
  },
  {
   "cell_type": "code",
   "execution_count": 79,
   "id": "b751fa93",
   "metadata": {},
   "outputs": [
    {
     "name": "stdout",
     "output_type": "stream",
     "text": [
      "1/1 [==============================] - 0s 169ms/step\n"
     ]
    }
   ],
   "source": [
    "pred = model.predict(t_p)"
   ]
  },
  {
   "cell_type": "code",
   "execution_count": 80,
   "id": "13b201f9",
   "metadata": {},
   "outputs": [
    {
     "name": "stdout",
     "output_type": "stream",
     "text": [
      "[[0.01039124]]\n"
     ]
    }
   ],
   "source": [
    "print(pred)\n",
    "predictions = np.argmax(pred,1)"
   ]
  },
  {
   "cell_type": "code",
   "execution_count": 83,
   "id": "6d7266bc",
   "metadata": {},
   "outputs": [
    {
     "name": "stdout",
     "output_type": "stream",
     "text": [
      "Saved model to disk\n"
     ]
    }
   ],
   "source": [
    "model.save(\"melanoma_classifier.h5\")\n",
    "print(\"Saved model to disk\")"
   ]
  },
  {
   "cell_type": "code",
   "execution_count": 87,
   "id": "25ec6426",
   "metadata": {},
   "outputs": [],
   "source": [
    "model = tf.keras.models.load_model(\"melanoma_classifier.h5\")"
   ]
  },
  {
   "cell_type": "code",
   "execution_count": 88,
   "id": "fc50a0b0",
   "metadata": {},
   "outputs": [
    {
     "name": "stderr",
     "output_type": "stream",
     "text": [
      "WARNING:absl:Found untraced functions such as _jit_compiled_convolution_op, _jit_compiled_convolution_op, _jit_compiled_convolution_op, _jit_compiled_convolution_op, _jit_compiled_convolution_op while saving (showing 5 of 14). These functions will not be directly callable after loading.\n"
     ]
    },
    {
     "name": "stdout",
     "output_type": "stream",
     "text": [
      "INFO:tensorflow:Assets written to: C:\\Users\\pranj\\AppData\\Local\\Temp\\tmpfiagbb25\\assets\n"
     ]
    },
    {
     "name": "stderr",
     "output_type": "stream",
     "text": [
      "INFO:tensorflow:Assets written to: C:\\Users\\pranj\\AppData\\Local\\Temp\\tmpfiagbb25\\assets\n"
     ]
    }
   ],
   "source": [
    "converter = tf.lite.TFLiteConverter.from_keras_model(model)\n",
    "tflite_model = converter.convert()"
   ]
  },
  {
   "cell_type": "code",
   "execution_count": 89,
   "id": "6b6b58e9",
   "metadata": {},
   "outputs": [],
   "source": [
    "with open(\"melanoma_classifier.tflite\", \"wb\") as f:\n",
    "    f.write(tflite_model)"
   ]
  },
  {
   "cell_type": "code",
   "execution_count": null,
   "id": "9d4a98a8",
   "metadata": {},
   "outputs": [],
   "source": []
  }
 ],
 "metadata": {
  "kernelspec": {
   "display_name": "Python 3 (ipykernel)",
   "language": "python",
   "name": "python3"
  },
  "language_info": {
   "codemirror_mode": {
    "name": "ipython",
    "version": 3
   },
   "file_extension": ".py",
   "mimetype": "text/x-python",
   "name": "python",
   "nbconvert_exporter": "python",
   "pygments_lexer": "ipython3",
   "version": "3.10.9"
  }
 },
 "nbformat": 4,
 "nbformat_minor": 5
}
